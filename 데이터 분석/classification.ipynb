{
 "cells": [
  {
   "cell_type": "code",
   "execution_count": 1,
   "metadata": {},
   "outputs": [
    {
     "data": {
      "text/html": [
       "<div>\n",
       "<style scoped>\n",
       "    .dataframe tbody tr th:only-of-type {\n",
       "        vertical-align: middle;\n",
       "    }\n",
       "\n",
       "    .dataframe tbody tr th {\n",
       "        vertical-align: top;\n",
       "    }\n",
       "\n",
       "    .dataframe thead th {\n",
       "        text-align: right;\n",
       "    }\n",
       "</style>\n",
       "<table border=\"1\" class=\"dataframe\">\n",
       "  <thead>\n",
       "    <tr style=\"text-align: right;\">\n",
       "      <th></th>\n",
       "      <th>id</th>\n",
       "      <th>업종</th>\n",
       "      <th>브랜드</th>\n",
       "      <th>가맹사업 개월수</th>\n",
       "      <th>가맹점수</th>\n",
       "      <th>가맹점 평균매출액</th>\n",
       "      <th>창업비용</th>\n",
       "      <th>개점률</th>\n",
       "      <th>폐점률</th>\n",
       "      <th>개월수_r</th>\n",
       "      <th>가맹점수_r</th>\n",
       "      <th>평균매출액_r</th>\n",
       "      <th>창업비용_r</th>\n",
       "      <th>개점률_r</th>\n",
       "      <th>폐점률_r</th>\n",
       "      <th>레이블</th>\n",
       "    </tr>\n",
       "  </thead>\n",
       "  <tbody>\n",
       "    <tr>\n",
       "      <th>0</th>\n",
       "      <td>1</td>\n",
       "      <td>주점</td>\n",
       "      <td>1943</td>\n",
       "      <td>23</td>\n",
       "      <td>45</td>\n",
       "      <td>1536915</td>\n",
       "      <td>181000</td>\n",
       "      <td>100</td>\n",
       "      <td>0</td>\n",
       "      <td>0.025688</td>\n",
       "      <td>0.013022</td>\n",
       "      <td>0.424917</td>\n",
       "      <td>0.220195</td>\n",
       "      <td>1.00</td>\n",
       "      <td>0.00</td>\n",
       "      <td>5</td>\n",
       "    </tr>\n",
       "    <tr>\n",
       "      <th>1</th>\n",
       "      <td>2</td>\n",
       "      <td>기타 외식</td>\n",
       "      <td>101번지 남산돈까스</td>\n",
       "      <td>61</td>\n",
       "      <td>14</td>\n",
       "      <td>310957</td>\n",
       "      <td>122780</td>\n",
       "      <td>85</td>\n",
       "      <td>0</td>\n",
       "      <td>0.095413</td>\n",
       "      <td>0.003847</td>\n",
       "      <td>0.085971</td>\n",
       "      <td>0.149367</td>\n",
       "      <td>0.85</td>\n",
       "      <td>0.00</td>\n",
       "      <td>3</td>\n",
       "    </tr>\n",
       "    <tr>\n",
       "      <th>2</th>\n",
       "      <td>3</td>\n",
       "      <td>한식</td>\n",
       "      <td>123막창</td>\n",
       "      <td>54</td>\n",
       "      <td>26</td>\n",
       "      <td>354106</td>\n",
       "      <td>93500</td>\n",
       "      <td>38</td>\n",
       "      <td>7</td>\n",
       "      <td>0.082569</td>\n",
       "      <td>0.007399</td>\n",
       "      <td>0.097900</td>\n",
       "      <td>0.113747</td>\n",
       "      <td>0.38</td>\n",
       "      <td>0.07</td>\n",
       "      <td>1</td>\n",
       "    </tr>\n",
       "    <tr>\n",
       "      <th>3</th>\n",
       "      <td>4</td>\n",
       "      <td>분식</td>\n",
       "      <td>135튀김집</td>\n",
       "      <td>36</td>\n",
       "      <td>13</td>\n",
       "      <td>243360</td>\n",
       "      <td>75000</td>\n",
       "      <td>53</td>\n",
       "      <td>23</td>\n",
       "      <td>0.049541</td>\n",
       "      <td>0.003551</td>\n",
       "      <td>0.067282</td>\n",
       "      <td>0.091241</td>\n",
       "      <td>0.53</td>\n",
       "      <td>0.23</td>\n",
       "      <td>3</td>\n",
       "    </tr>\n",
       "    <tr>\n",
       "      <th>4</th>\n",
       "      <td>5</td>\n",
       "      <td>한식</td>\n",
       "      <td>153포인츠(POINTZ)</td>\n",
       "      <td>83</td>\n",
       "      <td>9</td>\n",
       "      <td>355533</td>\n",
       "      <td>87510</td>\n",
       "      <td>0</td>\n",
       "      <td>0</td>\n",
       "      <td>0.135780</td>\n",
       "      <td>0.002368</td>\n",
       "      <td>0.098295</td>\n",
       "      <td>0.106460</td>\n",
       "      <td>0.00</td>\n",
       "      <td>0.00</td>\n",
       "      <td>1</td>\n",
       "    </tr>\n",
       "    <tr>\n",
       "      <th>...</th>\n",
       "      <td>...</td>\n",
       "      <td>...</td>\n",
       "      <td>...</td>\n",
       "      <td>...</td>\n",
       "      <td>...</td>\n",
       "      <td>...</td>\n",
       "      <td>...</td>\n",
       "      <td>...</td>\n",
       "      <td>...</td>\n",
       "      <td>...</td>\n",
       "      <td>...</td>\n",
       "      <td>...</td>\n",
       "      <td>...</td>\n",
       "      <td>...</td>\n",
       "      <td>...</td>\n",
       "      <td>...</td>\n",
       "    </tr>\n",
       "    <tr>\n",
       "      <th>2173</th>\n",
       "      <td>2174</td>\n",
       "      <td>한식</td>\n",
       "      <td>흥부찜닭</td>\n",
       "      <td>26</td>\n",
       "      <td>110</td>\n",
       "      <td>92470</td>\n",
       "      <td>84753</td>\n",
       "      <td>100</td>\n",
       "      <td>3</td>\n",
       "      <td>0.031193</td>\n",
       "      <td>0.032258</td>\n",
       "      <td>0.025565</td>\n",
       "      <td>0.103106</td>\n",
       "      <td>1.00</td>\n",
       "      <td>0.03</td>\n",
       "      <td>3</td>\n",
       "    </tr>\n",
       "    <tr>\n",
       "      <th>2174</th>\n",
       "      <td>2175</td>\n",
       "      <td>한식</td>\n",
       "      <td>희귀한족발</td>\n",
       "      <td>24</td>\n",
       "      <td>34</td>\n",
       "      <td>19105</td>\n",
       "      <td>27500</td>\n",
       "      <td>100</td>\n",
       "      <td>0</td>\n",
       "      <td>0.027523</td>\n",
       "      <td>0.009766</td>\n",
       "      <td>0.005281</td>\n",
       "      <td>0.033455</td>\n",
       "      <td>1.00</td>\n",
       "      <td>0.00</td>\n",
       "      <td>3</td>\n",
       "    </tr>\n",
       "    <tr>\n",
       "      <th>2175</th>\n",
       "      <td>2176</td>\n",
       "      <td>중/일식</td>\n",
       "      <td>히노아지</td>\n",
       "      <td>147</td>\n",
       "      <td>34</td>\n",
       "      <td>252863</td>\n",
       "      <td>75600</td>\n",
       "      <td>35</td>\n",
       "      <td>23</td>\n",
       "      <td>0.253211</td>\n",
       "      <td>0.009766</td>\n",
       "      <td>0.069909</td>\n",
       "      <td>0.091971</td>\n",
       "      <td>0.35</td>\n",
       "      <td>0.23</td>\n",
       "      <td>1</td>\n",
       "    </tr>\n",
       "    <tr>\n",
       "      <th>2176</th>\n",
       "      <td>2177</td>\n",
       "      <td>중/일식</td>\n",
       "      <td>히메노라멘</td>\n",
       "      <td>32</td>\n",
       "      <td>8</td>\n",
       "      <td>314175</td>\n",
       "      <td>77525</td>\n",
       "      <td>87</td>\n",
       "      <td>62</td>\n",
       "      <td>0.042202</td>\n",
       "      <td>0.002072</td>\n",
       "      <td>0.086860</td>\n",
       "      <td>0.094313</td>\n",
       "      <td>0.87</td>\n",
       "      <td>0.62</td>\n",
       "      <td>0</td>\n",
       "    </tr>\n",
       "    <tr>\n",
       "      <th>2177</th>\n",
       "      <td>2178</td>\n",
       "      <td>카페</td>\n",
       "      <td>히즈빈스(HISBEANS)</td>\n",
       "      <td>91</td>\n",
       "      <td>8</td>\n",
       "      <td>147913</td>\n",
       "      <td>138410</td>\n",
       "      <td>37</td>\n",
       "      <td>0</td>\n",
       "      <td>0.150459</td>\n",
       "      <td>0.002072</td>\n",
       "      <td>0.040893</td>\n",
       "      <td>0.168382</td>\n",
       "      <td>0.37</td>\n",
       "      <td>0.00</td>\n",
       "      <td>1</td>\n",
       "    </tr>\n",
       "  </tbody>\n",
       "</table>\n",
       "<p>2178 rows × 16 columns</p>\n",
       "</div>"
      ],
      "text/plain": [
       "        id     업종             브랜드  가맹사업 개월수  가맹점수  가맹점 평균매출액    창업비용  개점률  \\\n",
       "0        1     주점            1943        23    45    1536915  181000  100   \n",
       "1        2  기타 외식     101번지 남산돈까스        61    14     310957  122780   85   \n",
       "2        3     한식           123막창        54    26     354106   93500   38   \n",
       "3        4     분식          135튀김집        36    13     243360   75000   53   \n",
       "4        5     한식  153포인츠(POINTZ)        83     9     355533   87510    0   \n",
       "...    ...    ...             ...       ...   ...        ...     ...  ...   \n",
       "2173  2174     한식            흥부찜닭        26   110      92470   84753  100   \n",
       "2174  2175     한식           희귀한족발        24    34      19105   27500  100   \n",
       "2175  2176   중/일식            히노아지       147    34     252863   75600   35   \n",
       "2176  2177   중/일식           히메노라멘        32     8     314175   77525   87   \n",
       "2177  2178     카페  히즈빈스(HISBEANS)        91     8     147913  138410   37   \n",
       "\n",
       "      폐점률     개월수_r    가맹점수_r   평균매출액_r    창업비용_r  개점률_r  폐점률_r  레이블  \n",
       "0       0  0.025688  0.013022  0.424917  0.220195   1.00   0.00    5  \n",
       "1       0  0.095413  0.003847  0.085971  0.149367   0.85   0.00    3  \n",
       "2       7  0.082569  0.007399  0.097900  0.113747   0.38   0.07    1  \n",
       "3      23  0.049541  0.003551  0.067282  0.091241   0.53   0.23    3  \n",
       "4       0  0.135780  0.002368  0.098295  0.106460   0.00   0.00    1  \n",
       "...   ...       ...       ...       ...       ...    ...    ...  ...  \n",
       "2173    3  0.031193  0.032258  0.025565  0.103106   1.00   0.03    3  \n",
       "2174    0  0.027523  0.009766  0.005281  0.033455   1.00   0.00    3  \n",
       "2175   23  0.253211  0.009766  0.069909  0.091971   0.35   0.23    1  \n",
       "2176   62  0.042202  0.002072  0.086860  0.094313   0.87   0.62    0  \n",
       "2177    0  0.150459  0.002072  0.040893  0.168382   0.37   0.00    1  \n",
       "\n",
       "[2178 rows x 16 columns]"
      ]
     },
     "execution_count": 1,
     "metadata": {},
     "output_type": "execute_result"
    }
   ],
   "source": [
    "import pandas as pd\n",
    "\n",
    "dataset = pd.read_csv(\"model_dataset_final2.csv\")\n",
    "dataset"
   ]
  },
  {
   "cell_type": "code",
   "execution_count": 2,
   "metadata": {},
   "outputs": [],
   "source": [
    "# 훈련데이터, 타겟 데이터 설정\n",
    "X = dataset[[\"가맹사업 개월수\",\"가맹점수\",\"가맹점 평균매출액\", \"창업비용\",\"개점률\",\"폐점률\"]]\n",
    "y = dataset[\"레이블\"]"
   ]
  },
  {
   "cell_type": "code",
   "execution_count": 3,
   "metadata": {},
   "outputs": [
    {
     "name": "stderr",
     "output_type": "stream",
     "text": [
      "C:\\Users\\yangsemo\\anaconda3\\lib\\site-packages\\sklearn\\svm\\_base.py:976: ConvergenceWarning: Liblinear failed to converge, increase the number of iterations.\n",
      "  warnings.warn(\"Liblinear failed to converge, increase \"\n"
     ]
    },
    {
     "data": {
      "text/plain": [
       "Pipeline(steps=[('poly_features', PolynomialFeatures(degree=3)),\n",
       "                ('scaler', StandardScaler()),\n",
       "                ('svm_clf', LinearSVC(C=10, loss='hinge', random_state=42))])"
      ]
     },
     "execution_count": 3,
     "metadata": {},
     "output_type": "execute_result"
    }
   ],
   "source": [
    "# 비선형 SVM\n",
    "from sklearn.pipeline import Pipeline\n",
    "from sklearn.preprocessing import PolynomialFeatures\n",
    "from sklearn.preprocessing import StandardScaler\n",
    "from sklearn.svm import LinearSVC\n",
    "\n",
    "polynomial_svm_clf = Pipeline([\n",
    "        (\"poly_features\", PolynomialFeatures(degree=3)),\n",
    "        (\"scaler\", StandardScaler()),\n",
    "        (\"svm_clf\", LinearSVC(C=10, loss=\"hinge\", random_state=42))\n",
    "    ])\n",
    "\n",
    "polynomial_svm_clf.fit(X, y)"
   ]
  },
  {
   "cell_type": "code",
   "execution_count": 4,
   "metadata": {},
   "outputs": [
    {
     "data": {
      "text/plain": [
       "array([5], dtype=int64)"
      ]
     },
     "execution_count": 4,
     "metadata": {},
     "output_type": "execute_result"
    }
   ],
   "source": [
    "# 테스트1\n",
    "polynomial_svm_clf.predict([[66,5,1540660,100448,0,40]])"
   ]
  },
  {
   "cell_type": "code",
   "execution_count": 5,
   "metadata": {},
   "outputs": [
    {
     "data": {
      "text/plain": [
       "array([1], dtype=int64)"
      ]
     },
     "execution_count": 5,
     "metadata": {},
     "output_type": "execute_result"
    }
   ],
   "source": [
    "# 테스트1\n",
    "polynomial_svm_clf.predict([[75,38,999025,85020,18,10]])"
   ]
  },
  {
   "cell_type": "code",
   "execution_count": 6,
   "metadata": {},
   "outputs": [
    {
     "data": {
      "text/plain": [
       "['model.pkl']"
      ]
     },
     "execution_count": 6,
     "metadata": {},
     "output_type": "execute_result"
    }
   ],
   "source": [
    "import joblib\n",
    "joblib.dump(polynomial_svm_clf, 'model.pkl') "
   ]
  },
  {
   "cell_type": "code",
   "execution_count": 7,
   "metadata": {},
   "outputs": [
    {
     "data": {
      "text/plain": [
       "array([1], dtype=int64)"
      ]
     },
     "execution_count": 7,
     "metadata": {},
     "output_type": "execute_result"
    }
   ],
   "source": [
    "load_model = joblib.load('model.pkl')\n",
    "load_model.predict([[75,38,999025,85020,18,10]])"
   ]
  },
  {
   "cell_type": "code",
   "execution_count": 9,
   "metadata": {},
   "outputs": [
    {
     "data": {
      "text/plain": [
       "array([2], dtype=int64)"
      ]
     },
     "execution_count": 9,
     "metadata": {},
     "output_type": "execute_result"
    }
   ],
   "source": [
    "load_model.predict([[300,1000,360000,85020,18,10]])"
   ]
  },
  {
   "cell_type": "code",
   "execution_count": 11,
   "metadata": {},
   "outputs": [
    {
     "data": {
      "text/plain": [
       "array([3], dtype=int64)"
      ]
     },
     "execution_count": 11,
     "metadata": {},
     "output_type": "execute_result"
    }
   ],
   "source": [
    "load_model.predict([[35,30,360000,85020,75,10]])"
   ]
  },
  {
   "cell_type": "code",
   "execution_count": 12,
   "metadata": {},
   "outputs": [
    {
     "data": {
      "text/plain": [
       "array([4], dtype=int64)"
      ]
     },
     "execution_count": 12,
     "metadata": {},
     "output_type": "execute_result"
    }
   ],
   "source": [
    "load_model.predict([[200,100,360000,85020,10,10]])"
   ]
  },
  {
   "cell_type": "code",
   "execution_count": 15,
   "metadata": {},
   "outputs": [
    {
     "data": {
      "text/plain": [
       "array([5], dtype=int64)"
      ]
     },
     "execution_count": 15,
     "metadata": {},
     "output_type": "execute_result"
    }
   ],
   "source": [
    "load_model.predict([[84,31,990000,260020,10,10]])"
   ]
  },
  {
   "cell_type": "code",
   "execution_count": 16,
   "metadata": {},
   "outputs": [
    {
     "data": {
      "text/plain": [
       "array([4], dtype=int64)"
      ]
     },
     "execution_count": 16,
     "metadata": {},
     "output_type": "execute_result"
    }
   ],
   "source": [
    "load_model.predict([[309,107,297889,92785,8,10]])"
   ]
  },
  {
   "cell_type": "code",
   "execution_count": 22,
   "metadata": {},
   "outputs": [
    {
     "data": {
      "text/plain": [
       "1"
      ]
     },
     "execution_count": 22,
     "metadata": {},
     "output_type": "execute_result"
    }
   ],
   "source": [
    "x= load_model.predict([[35,28,268959,92785,21,4]])\n",
    "x[0]"
   ]
  },
  {
   "cell_type": "code",
   "execution_count": 23,
   "metadata": {},
   "outputs": [],
   "source": [
    "number_of_months = [309,198,84,75,74,35]\n",
    "franchise_count = [1338,107,38,31,28,16]\n",
    "average_sales = [999025,361352,297889,268958,237821,228112]\n",
    "cost = [72716,85020,86420,92785,128907,266781]\n",
    "open_rate = [78,21,18,18,8,6]\n",
    "close_rate = [4,6,11,13,14,20]"
   ]
  },
  {
   "cell_type": "code",
   "execution_count": 26,
   "metadata": {},
   "outputs": [
    {
     "data": {
      "text/plain": [
       "0"
      ]
     },
     "execution_count": 26,
     "metadata": {},
     "output_type": "execute_result"
    }
   ],
   "source": [
    "feature_rank=[0,1,2,3,4,5]\n",
    "feature_rank[0]"
   ]
  },
  {
   "cell_type": "code",
   "execution_count": 29,
   "metadata": {},
   "outputs": [
    {
     "data": {
      "text/plain": [
       "array([4], dtype=int64)"
      ]
     },
     "execution_count": 29,
     "metadata": {},
     "output_type": "execute_result"
    }
   ],
   "source": [
    "load_model.predict([[number_of_months[feature_rank[0]],franchise_count[feature_rank[1]],average_sales[feature_rank[2]],cost[feature_rank[3]],open_rate[feature_rank[4]], close_rate[feature_rank[5]]]])"
   ]
  },
  {
   "cell_type": "code",
   "execution_count": 28,
   "metadata": {},
   "outputs": [
    {
     "data": {
      "text/plain": [
       "309"
      ]
     },
     "execution_count": 28,
     "metadata": {},
     "output_type": "execute_result"
    }
   ],
   "source": [
    "number_of_months[]"
   ]
  },
  {
   "cell_type": "code",
   "execution_count": null,
   "metadata": {},
   "outputs": [],
   "source": []
  }
 ],
 "metadata": {
  "kernelspec": {
   "display_name": "Python 3",
   "language": "python",
   "name": "python3"
  },
  "language_info": {
   "codemirror_mode": {
    "name": "ipython",
    "version": 3
   },
   "file_extension": ".py",
   "mimetype": "text/x-python",
   "name": "python",
   "nbconvert_exporter": "python",
   "pygments_lexer": "ipython3",
   "version": "3.8.5"
  }
 },
 "nbformat": 4,
 "nbformat_minor": 4
}
